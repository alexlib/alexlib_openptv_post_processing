{
 "cells": [
  {
   "cell_type": "code",
   "execution_count": 157,
   "metadata": {
    "collapsed": true
   },
   "outputs": [],
   "source": [
    "import numpy as np\n",
    "import matplotlib.pyplot as plt\n",
    "import skimage as sk\n",
    "from skimage import io\n",
    "from skimage import data, color\n",
    "from skimage.transform import hough_circle\n",
    "from skimage.feature import peak_local_max, canny\n",
    "from skimage.draw import circle_perimeter\n",
    "from skimage.util import img_as_ubyte\n",
    "\n",
    "from glob import glob\n",
    "\n",
    "%matplotlib inline"
   ]
  },
  {
   "cell_type": "code",
   "execution_count": 158,
   "metadata": {
    "collapsed": true
   },
   "outputs": [],
   "source": [
    "def write_dumbbells(filename, accums, centers, radii):\n",
    "    k = 0\n",
    "    with open(filename,'w') as f:\n",
    "        f.write('%d\\n' % 2)\n",
    "        for idx in np.argsort(accums)[::-1][:2]:\n",
    "            x, y = centers[idx]\n",
    "            r = radii[idx]\n",
    "            f.write('%4d %9.4f %9.4f %5d %5d %5d %5d %5d\\n' % (k,y,x,r**2,2*r,2*r,r**2*255,-1))\n",
    "            k+=1"
   ]
  },
  {
   "cell_type": "code",
   "execution_count": 159,
   "metadata": {
    "collapsed": false
   },
   "outputs": [],
   "source": [
    "for cam in ('1','2','3','4'):\n",
    "    db = glob('db/db'+cam+'.?????')\n",
    "    # print db[0]\n",
    "    for im in db[:10]:\n",
    "        image = io.imread(im)\n",
    "        image_gray = rgb2gray(image)\n",
    "        # Load picture and detect edges\n",
    "        image = img_as_ubyte(image_gray)\n",
    "        edges = canny(image, sigma=3, low_threshold=10, high_threshold=50)\n",
    "\n",
    "        # fig, ax = plt.subplots(ncols=1, nrows=1, figsize=(10, 8))\n",
    "\n",
    "        # Detect two radii\n",
    "        hough_radii = np.arange(30, 60, 2)\n",
    "        hough_res = hough_circle(edges, hough_radii)\n",
    "\n",
    "        centers = []\n",
    "        accums = []\n",
    "        radii = []\n",
    "\n",
    "        for radius, h in zip(hough_radii, hough_res):\n",
    "            # For each radius, extract two circles\n",
    "            num_peaks = 2\n",
    "            peaks = peak_local_max(h, num_peaks=num_peaks)\n",
    "            centers.extend(peaks)\n",
    "            accums.extend(h[peaks[:, 0], peaks[:, 1]])\n",
    "            radii.extend([radius] * num_peaks)\n",
    "\n",
    "        write_dumbbells(im+'_targets',accums,centers,radii)\n",
    "\n",
    "        # # Draw the most prominent 5 circles\n",
    "        # image = color.gray2rgb(image)\n",
    "        # for idx in np.argsort(accums)[::-1][:2]:\n",
    "        #     center_x, center_y = centers[idx]\n",
    "        #     radius = radii[idx]\n",
    "        #     cx, cy = circle_perimeter(center_y, center_x, radius)\n",
    "        #     image[cy, cx] = (220, 20, 20)\n",
    "\n",
    "        # ax.imshow(image, cmap=plt.cm.gray)"
   ]
  },
  {
   "cell_type": "code",
   "execution_count": null,
   "metadata": {
    "collapsed": true
   },
   "outputs": [],
   "source": []
  },
  {
   "cell_type": "code",
   "execution_count": null,
   "metadata": {
    "collapsed": true
   },
   "outputs": [],
   "source": []
  }
 ],
 "metadata": {
  "kernelspec": {
   "display_name": "Python 2",
   "language": "python",
   "name": "python2"
  },
  "language_info": {
   "codemirror_mode": {
    "name": "ipython",
    "version": 2
   },
   "file_extension": ".py",
   "mimetype": "text/x-python",
   "name": "python",
   "nbconvert_exporter": "python",
   "pygments_lexer": "ipython2",
   "version": "2.7.6"
  }
 },
 "nbformat": 4,
 "nbformat_minor": 0
}
